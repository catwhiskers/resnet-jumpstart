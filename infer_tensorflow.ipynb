{
 "cells": [
  {
   "cell_type": "markdown",
   "metadata": {},
   "source": [
    "\n",
    "## Finding the model\n",
    "\n",
    "This notebook uses a stored model if it exists. If you recently ran a training example that use the `%store%` magic, it will be restored in the next cell.\n",
    "\n",
    "Otherwise, you can pass the URI to the model file (a .tar.gz file) in the `model_data` variable.\n",
    "\n",
    "You can find your model files through the [SageMaker console](https://console.aws.amazon.com/sagemaker/home) by choosing **Training > Training jobs** in the left navigation pane. Find your recent training job, choose it, and then look for the `s3://` link in the **Output** pane. Uncomment the model_data line in the next cell that manually sets the model's URI."
   ]
  },
  {
   "cell_type": "code",
   "execution_count": null,
   "metadata": {},
   "outputs": [],
   "source": [
    "#model_data = 's3://sagemaker-us-west-2-230755935769/smjs-c-tf-ic-resnet-50-classification-1-20210309-023504/output/model.tar.gz'"
   ]
  },
  {
   "cell_type": "code",
   "execution_count": null,
   "metadata": {},
   "outputs": [],
   "source": [
    "# Retrieve a saved model from a previous notebook run's stored variable\n",
    "%store -r model_data\n",
    "\n",
    "# If no model was found, set it manually here.\n",
    "# model_data = 's3://sagemaker-us-west-2-688520471316/pytorch-herring-mnist-2020-10-16-17-15-16-419/output/model.tar.gz'\n",
    "\n",
    "print(\"Using this model: {}\".format(model_data))"
   ]
  },
  {
   "cell_type": "markdown",
   "metadata": {},
   "source": [
    "## Get Data \n",
    "\n",
    "You define the model object by using SageMaker SDK's `TensorFlowModel` and pass in the model from the `estimator` and the `entry_point`. The function loads the model and sets it to use a GPU, if available."
   ]
  },
  {
   "cell_type": "markdown",
   "metadata": {},
   "source": [
    "### Test the model"
   ]
  },
  {
   "cell_type": "code",
   "execution_count": null,
   "metadata": {},
   "outputs": [],
   "source": [
    "DATA_GENERATOR_KWARGS = {\"rescale\": 1.0 / 255, \"validation_split\": 0.20}\n",
    "IMAGE_SIZE = (224, 224)\n",
    "batch_size = 32\n",
    "INTERPOLATION = \"bilinear\"\n",
    "dataflow_kwargs = dict(\n",
    "    target_size=IMAGE_SIZE, batch_size=batch_size, interpolation=INTERPOLATION, \n",
    ")\n",
    "data_dir = '/home/ec2-user/SageMaker/resnet-jumpstart/resnet-aoi-2/'\n",
    "valid_datagen = tf.keras.preprocessing.image.ImageDataGenerator(**DATA_GENERATOR_KWARGS)\n",
    "# valid_generator = valid_datagen.flow_from_directory(data_dir, subset=\"validation\", shuffle=False, **dataflow_kwargs)\n",
    "valid_generator = valid_datagen.flow_from_directory(data_dir, subset=\"validation\", shuffle=False, **dataflow_kwargs)\n",
    "\n",
    "\n",
    "(test_images, test_labels) = valid_generator.next()\n",
    "test_images.shape"
   ]
  },
  {
   "cell_type": "code",
   "execution_count": null,
   "metadata": {},
   "outputs": [],
   "source": [
    "# Download the test set\n",
    "import tensorflow as tf\n",
    "\n",
    "\n",
    "import numpy as np\n",
    "import random\n",
    "\n",
    "mask = random.sample(range(0, len(test_images)), 4)\n",
    "mask = np.array(mask, dtype=np.int8)\n",
    "samples = test_images[mask]\n",
    "sample_labels = test_labels[mask]\n",
    "print(samples.shape)\n",
    "# Inspect sample images\n",
    "import matplotlib.pyplot as plt\n",
    "%matplotlib inline\n",
    "\n",
    "fig, ax = plt.subplots(nrows=2, ncols=2, sharex=True, sharey=True, figsize=(15,15))\n",
    "for i, row in enumerate(ax):\n",
    "    for j, col in enumerate(row):\n",
    "        col.imshow(samples[2*i+j].reshape(224, 224,3))"
   ]
  },
  {
   "cell_type": "code",
   "execution_count": null,
   "metadata": {},
   "outputs": [],
   "source": [
    "!pip install tensorflow==2.4.1"
   ]
  },
  {
   "cell_type": "code",
   "execution_count": null,
   "metadata": {},
   "outputs": [],
   "source": [
    "model_data "
   ]
  },
  {
   "cell_type": "code",
   "execution_count": null,
   "metadata": {},
   "outputs": [],
   "source": [
    "%%bash -s \"$model_data\" \n",
    "rm -rf s3_model \n",
    "mkdir s3_model\n",
    "cd s3_model \n",
    "aws s3 cp $1 . \n",
    "tar -xf model.tar.gz \n",
    "ls ./1/"
   ]
  },
  {
   "cell_type": "code",
   "execution_count": null,
   "metadata": {},
   "outputs": [],
   "source": [
    "import keras\n",
    "import tensorflow as tf \n",
    "\n",
    "\n",
    "export_dir = './s3_model/1/'\n",
    "\n",
    "model = tf.saved_model.load(export_dir)\n",
    "\n"
   ]
  },
  {
   "cell_type": "code",
   "execution_count": null,
   "metadata": {},
   "outputs": [],
   "source": [
    "# answers \n",
    "print(\"ground truth:\", np.argmax(sample_labels, axis=1))\n",
    "# predictions \n",
    "print(\"prediction:\", np.argmax(model((samples)), axis=1)) \n"
   ]
  },
  {
   "cell_type": "code",
   "execution_count": null,
   "metadata": {},
   "outputs": [],
   "source": [
    "image = tf.keras.preprocessing.image.load_img(\"./resnet-aoi-2/2-True/training/0_a.png\", target_size=IMAGE_SIZE, interpolation=INTERPOLATION)\n",
    "display(image)"
   ]
  },
  {
   "cell_type": "code",
   "execution_count": null,
   "metadata": {},
   "outputs": [],
   "source": [
    "\n",
    "input_arr = keras.preprocessing.image.img_to_array(image) / 255\n",
    "model([input_arr])"
   ]
  },
  {
   "cell_type": "code",
   "execution_count": null,
   "metadata": {},
   "outputs": [],
   "source": []
  }
 ],
 "metadata": {
  "kernelspec": {
   "display_name": "conda_tensorflow_p36",
   "language": "python",
   "name": "conda_tensorflow_p36"
  },
  "language_info": {
   "codemirror_mode": {
    "name": "ipython",
    "version": 3
   },
   "file_extension": ".py",
   "mimetype": "text/x-python",
   "name": "python",
   "nbconvert_exporter": "python",
   "pygments_lexer": "ipython3",
   "version": "3.6.10"
  }
 },
 "nbformat": 4,
 "nbformat_minor": 4
}
