{
 "cells": [
  {
   "cell_type": "markdown",
   "id": "smoking-villa",
   "metadata": {},
   "source": [
    "### Download data "
   ]
  },
  {
   "cell_type": "code",
   "execution_count": null,
   "id": "aerial-fancy",
   "metadata": {},
   "outputs": [],
   "source": [
    "%%bash \n",
    "cd SageMaker \n",
    "wget -O data.zip https://tinyurl.com/y8dty9qu\n",
    "unzip data.zip"
   ]
  },
  {
   "cell_type": "code",
   "execution_count": null,
   "id": "premier-inclusion",
   "metadata": {},
   "outputs": [],
   "source": [
    "import sagemaker\n",
    "\n",
    "sagemaker_session = sagemaker.Session()\n",
    "role = sagemaker.get_execution_role()\n",
    "bucket = sagemaker_session.default_bucket() \n",
    "!aws s3 cp --recursive resnet-aoi-2 s3://{bucket}/resnet-aoi-2 "
   ]
  },
  {
   "cell_type": "code",
   "execution_count": null,
   "id": "average-speed",
   "metadata": {},
   "outputs": [],
   "source": [
    "input_data = sagemaker.inputs.TrainingInput(\"s3://{}/resnet-aoi-2/\".format(bucket))\n",
    "data_channel = {'training':input_data}\n",
    "print(input_data)"
   ]
  },
  {
   "cell_type": "markdown",
   "id": "living-tuner",
   "metadata": {},
   "source": [
    "### Let's switch to Sagemaker Studio to use JumpStart! "
   ]
  },
  {
   "cell_type": "markdown",
   "id": "realistic-medicare",
   "metadata": {},
   "source": [
    "### Let's switch back to this Notebook:) "
   ]
  },
  {
   "cell_type": "code",
   "execution_count": null,
   "id": "homeless-actor",
   "metadata": {},
   "outputs": [],
   "source": [
    "hyperparameters = {\n",
    "    \"adam-learning-rate\":\"0.05\",\n",
    "    \"batch-size\":\"4\",\n",
    "    \"epochs\":\"3\", \n",
    "    \"model-artifact-bucket\":\"jumpstart-cache-prod-us-west-2\", \n",
    "    \"model-artifact-key\":\"tensorflow-training/train-tensorflow-ic-resnet-50-classification-1.tar.gz\"\n",
    "}"
   ]
  },
  {
   "cell_type": "code",
   "execution_count": null,
   "id": "tested-bacon",
   "metadata": {},
   "outputs": [],
   "source": [
    "from sagemaker.tensorflow import TensorFlow\n",
    "\n",
    "\n",
    "\n",
    "estimator = TensorFlow(\n",
    "                        base_job_name='resnet-aoi',\n",
    "                        source_dir='code',\n",
    "                        entry_point='transfer_learning_single.py',\n",
    "                        role=role,\n",
    "                        py_version='py37',\n",
    "                        framework_version='2.3.1',\n",
    "                        # For training with multinode distributed training, set this count. Example: 2\n",
    "                        instance_count=1,\n",
    "                        # For training with p3dn instance use - ml.p3dn.24xlarge, with p4dn instance use - ml.p4d.24xlarge\n",
    "                        instance_type= 'ml.p3.16xlarge',\n",
    "                        hyperparameters = hyperparameters, \n",
    "                        sagemaker_session=sagemaker_session,\n",
    "                        disable_profiler=True,\n",
    "                        debugger_hook_config=False,\n",
    "                        # Training using SMDataParallel Distributed Training Framework\n",
    "#                         distribution={'smdistributed':{\n",
    "#                                             'dataparallel':{\n",
    "#                                                     'enabled': True\n",
    "#                                              }\n",
    "#                                       }}\n",
    "                        )"
   ]
  },
  {
   "cell_type": "code",
   "execution_count": null,
   "id": "charitable-robinson",
   "metadata": {},
   "outputs": [],
   "source": [
    "estimator.fit(inputs=data_channel)\n"
   ]
  },
  {
   "cell_type": "code",
   "execution_count": null,
   "id": "entitled-causing",
   "metadata": {},
   "outputs": [],
   "source": [
    "model_data = estimator.model_data\n",
    "print(\"Storing {} as model_data\".format(model_data))\n",
    "%store model_data"
   ]
  },
  {
   "cell_type": "code",
   "execution_count": null,
   "id": "premium-listing",
   "metadata": {},
   "outputs": [],
   "source": []
  }
 ],
 "metadata": {
  "kernelspec": {
   "display_name": "conda_python3",
   "language": "python",
   "name": "conda_python3"
  },
  "language_info": {
   "codemirror_mode": {
    "name": "ipython",
    "version": 3
   },
   "file_extension": ".py",
   "mimetype": "text/x-python",
   "name": "python",
   "nbconvert_exporter": "python",
   "pygments_lexer": "ipython3",
   "version": "3.6.10"
  }
 },
 "nbformat": 4,
 "nbformat_minor": 5
}
